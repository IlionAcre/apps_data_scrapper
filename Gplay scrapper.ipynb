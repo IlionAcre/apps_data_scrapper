{
 "cells": [
  {
   "cell_type": "code",
   "execution_count": 1,
   "id": "b2216e48",
   "metadata": {},
   "outputs": [
    {
     "name": "stdout",
     "output_type": "stream",
     "text": [
      "Collecting playwright\n",
      "  Downloading playwright-1.43.0-py3-none-win_amd64.whl (29.4 MB)\n",
      "Collecting pyee==11.1.0\n",
      "  Downloading pyee-11.1.0-py3-none-any.whl (15 kB)\n",
      "Collecting greenlet==3.0.3\n",
      "  Downloading greenlet-3.0.3-cp39-cp39-win_amd64.whl (290 kB)\n",
      "Requirement already satisfied: typing-extensions in c:\\users\\faalc\\anaconda3\\lib\\site-packages (from pyee==11.1.0->playwright) (4.1.1)\n",
      "Installing collected packages: pyee, greenlet, playwright\n",
      "  Attempting uninstall: pyee\n",
      "    Found existing installation: pyee 8.2.2\n",
      "    Uninstalling pyee-8.2.2:\n",
      "      Successfully uninstalled pyee-8.2.2\n",
      "  Attempting uninstall: greenlet\n",
      "    Found existing installation: greenlet 1.1.1\n",
      "    Uninstalling greenlet-1.1.1:\n",
      "      Successfully uninstalled greenlet-1.1.1\n",
      "Successfully installed greenlet-3.0.3 playwright-1.43.0 pyee-11.1.0\n",
      "Note: you may need to restart the kernel to use updated packages.\n"
     ]
    },
    {
     "name": "stderr",
     "output_type": "stream",
     "text": [
      "ERROR: pip's dependency resolver does not currently take into account all the packages that are installed. This behaviour is the source of the following dependency conflicts.\n",
      "pyppeteer 1.0.2 requires pyee<9.0.0,>=8.1.0, but you have pyee 11.1.0 which is incompatible.\n"
     ]
    }
   ],
   "source": [
    "pip install playwright"
   ]
  },
  {
   "cell_type": "code",
   "execution_count": 4,
   "id": "64f3e29e",
   "metadata": {},
   "outputs": [
    {
     "ename": "SyntaxError",
     "evalue": "invalid syntax (938024582.py, line 1)",
     "output_type": "error",
     "traceback": [
      "\u001b[1;36m  Input \u001b[1;32mIn [4]\u001b[1;36m\u001b[0m\n\u001b[1;33m    playwright install\u001b[0m\n\u001b[1;37m               ^\u001b[0m\n\u001b[1;31mSyntaxError\u001b[0m\u001b[1;31m:\u001b[0m invalid syntax\n"
     ]
    }
   ],
   "source": []
  },
  {
   "cell_type": "code",
   "execution_count": null,
   "id": "76fcfb76",
   "metadata": {},
   "outputs": [],
   "source": []
  }
 ],
 "metadata": {
  "kernelspec": {
   "display_name": "Python 3 (ipykernel)",
   "language": "python",
   "name": "python3"
  },
  "language_info": {
   "codemirror_mode": {
    "name": "ipython",
    "version": 3
   },
   "file_extension": ".py",
   "mimetype": "text/x-python",
   "name": "python",
   "nbconvert_exporter": "python",
   "pygments_lexer": "ipython3",
   "version": "3.9.12"
  }
 },
 "nbformat": 4,
 "nbformat_minor": 5
}
